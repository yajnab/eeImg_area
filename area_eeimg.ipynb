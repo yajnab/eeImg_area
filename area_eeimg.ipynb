{
 "cells": [
  {
   "cell_type": "code",
   "execution_count": 61,
   "id": "b9353adf",
   "metadata": {},
   "outputs": [],
   "source": [
    "import ee\n",
    "import geemap\n",
    "import geopandas as gpd\n",
    "import pandas as pd\n",
    "import pandas as pd\n",
    "import json\n",
    "import configparser\n",
    "import time"
   ]
  },
  {
   "cell_type": "code",
   "execution_count": 62,
   "id": "c5230764",
   "metadata": {},
   "outputs": [],
   "source": [
    "Map = geemap.Map()"
   ]
  },
  {
   "cell_type": "code",
   "execution_count": 63,
   "id": "441fbe95",
   "metadata": {},
   "outputs": [],
   "source": [
    "config = configparser.ConfigParser()\n",
    "config.read(r\"./config.ini\")\n",
    "\n",
    "ee_collection = config.get(\"myvars\", \"ee_col\")\n",
    "path = config.get(\"myvars\", \"path\")\n",
    "band_ee = config.get(\"myvars\", \"band_ee\")\n",
    "cc_cover = config.get(\"myvars\", \"cc_cover\")\n",
    "\n",
    "folder = config.get(\"myvars\", \"folder\")"
   ]
  },
  {
   "cell_type": "code",
   "execution_count": 89,
   "id": "e5f96d45",
   "metadata": {},
   "outputs": [],
   "source": [
    "dataset = ee.ImageCollection(ee_collection).filterDate('2017-01-01', '2017-12-31')\n",
    "shpz = geemap.shp_to_ee(path)\n",
    "dataset2 = dataset.mean().clip(shpz)\n",
    "ndwi = dataset2.normalizedDifference(['B3', 'B5'])\n",
    "Map.addLayer(ndwi,{'palette': ['red', 'yellow', 'green', 'cyan', 'blue']},'NDWI')\n",
    "Map.centerObject(shpz,9)"
   ]
  },
  {
   "cell_type": "code",
   "execution_count": 127,
   "id": "8ed90343",
   "metadata": {},
   "outputs": [],
   "source": [
    "ndwiThreshold = (ndwi.gte(0.3))\n",
    "ndwiMask = ndwiThreshold.updateMask(ndwiThreshold);\n",
    "Map.addLayer(\n",
    "    ndwiThreshold,\n",
    "    {'palette':['black', 'white']},\n",
    "    'NDWI Binary Mask');\n",
    "Map.addLayer(ndwiMask, {'palette':['blue']}, 'NDWI Mask');"
   ]
  },
  {
   "cell_type": "code",
   "execution_count": 119,
   "id": "67bdc26b",
   "metadata": {},
   "outputs": [
    {
     "data": {
      "application/vnd.jupyter.widget-view+json": {
       "model_id": "1359f067649b40b0bedcb5be76e74090",
       "version_major": 2,
       "version_minor": 0
      },
      "text/plain": [
       "Map(bottom=468451.0, center=[18.91960278327717, 72.79986963757503], controls=(WidgetControl(options=['position…"
      ]
     },
     "execution_count": 119,
     "metadata": {},
     "output_type": "execute_result"
    }
   ],
   "source": [
    "Map"
   ]
  },
  {
   "cell_type": "code",
   "execution_count": 120,
   "id": "ee17eb97",
   "metadata": {},
   "outputs": [],
   "source": [
    "pixel_area1 = ndwiMask.multiply(ee.Image.pixelArea())\n",
    "\n",
    "Area = pixel_area1.reduceRegion(\n",
    "    reducer = ee.Reducer.sum(),\n",
    "    geometry = shpz,\n",
    "    scale = 30,\n",
    "    maxPixels = 1e9\n",
    ").getInfo()"
   ]
  },
  {
   "cell_type": "code",
   "execution_count": 121,
   "id": "8c86ed53",
   "metadata": {},
   "outputs": [
    {
     "name": "stdout",
     "output_type": "stream",
     "text": [
      "{'nd': 76352230.08828087}\n"
     ]
    }
   ],
   "source": [
    "print(Area)"
   ]
  },
  {
   "cell_type": "code",
   "execution_count": null,
   "id": "09d7ee8c",
   "metadata": {},
   "outputs": [],
   "source": []
  }
 ],
 "metadata": {
  "kernelspec": {
   "display_name": "Python 3 (ipykernel)",
   "language": "python",
   "name": "python3"
  },
  "language_info": {
   "codemirror_mode": {
    "name": "ipython",
    "version": 3
   },
   "file_extension": ".py",
   "mimetype": "text/x-python",
   "name": "python",
   "nbconvert_exporter": "python",
   "pygments_lexer": "ipython3",
   "version": "3.11.4"
  }
 },
 "nbformat": 4,
 "nbformat_minor": 5
}
